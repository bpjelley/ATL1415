{
 "cells": [
  {
   "cell_type": "code",
   "execution_count": null,
   "id": "9f5fca79",
   "metadata": {},
   "outputs": [],
   "source": [
    "import matplotlib.pyplot as plt\n",
    "%matplotlib widget\n",
    "\n",
    "import os\n",
    "import pointCollection as pc\n",
    "import h5py\n",
    "import numpy as np\n",
    "import scipy.ndimage as snd\n",
    "import h5py\n",
    "import geopandas as gpd\n",
    "%load_ext autoreload \n",
    "%autoreload 2"
   ]
  },
  {
   "cell_type": "code",
   "execution_count": null,
   "id": "59be1fe1-ffb5-49e2-adb1-929c76e945dc",
   "metadata": {},
   "outputs": [],
   "source": [
    "\n",
    "# note: to make the full mask, replace the \"t_temp > 2018\" with \"t_temp > 2000\"\n",
    "\n",
    "mask_file='../../../ice-shelf-geometry/data/icemask_composite.nc'\n",
    "template=pc.grid.data(t_axis=0).from_nc(mask_file, bands=[18], fields=[])\n",
    "\n",
    "files=['../../../ice-shelf-geometry/data/icemask_composite.nc',\n",
    "       '/Volumes/ice3/tyler/masks/antarctic_coastline/antarctic_icelines_2021_mask.h5',\n",
    "       '/Volumes/ice3/tyler/masks/antarctic_coastline/antarctic_icelines_2022_mask.h5',\n",
    "        '/Volumes/ice3/tyler/masks/antarctic_coastline/antarctic_icelines_2023_mask.h5']\n",
    " \n",
    "t_vals=[]\n",
    "file_nums=[]\n",
    "\n",
    "for count, file in enumerate(files):\n",
    "    with h5py.File(file,'r') as h5f:\n",
    "        if 't' in h5f:\n",
    "            t_temp = np.array(h5f['t'])\n",
    "        else:\n",
    "            t_temp=np.array(h5f['year'])\n",
    "        keep = t_temp > 2018\n",
    "        t_vals += list(t_temp[keep])\n",
    "        file_nums += list(np.zeros(keep.sum(), dtype=int)+count)\n",
    "\n",
    "t_vals=np.array(t_vals)\n",
    "        \n",
    "# remove the last of the original Greene et al masks\n",
    "t_vals=t_vals[np.flatnonzero(np.round(t_vals/.1)*.1 != 2021.2)]"
   ]
  },
  {
   "cell_type": "code",
   "execution_count": null,
   "id": "2eea6ee0-e94e-4783-9386-70c0a8c8102f",
   "metadata": {},
   "outputs": [],
   "source": [
    "files"
   ]
  },
  {
   "cell_type": "code",
   "execution_count": null,
   "id": "e7c31ca8",
   "metadata": {
    "scrolled": true
   },
   "outputs": [],
   "source": [
    "# read the bedmachine mask and ice thickness\n",
    "bedmachine_file='/Volumes/ice3/ben/Bedmachine/BedMachineAntarctica_2020-07-15_v02.nc'\n",
    "temp=pc.grid.data().from_nc(bedmachine_file, fields=['mask','thickness'])#, bounds=[[3.e5, 5.e5], [-14e5, -12e5]])\n",
    "\n",
    "# dilate the grounded-ice and ice-shelf parts of the mask by 4 pixels\n",
    "temp.assign({'z':(snd.binary_dilation((temp.mask==1)|(temp.mask==2), structure=np.ones((4,4), dtype=bool)) & (temp.thickness < 10))})\n",
    "bm_mask=pc.grid.data().from_dict({'x':template.x,'y':template.y})\n",
    "\n",
    "# interpolate the bedmachine mask to the Green coordinates\n",
    "bm_mask.assign({'z':temp.interp(template.x, template.y, gridded=True)<0.9})\n",
    "bm_mask.z = snd.binary_opening(bm_mask.z, np.ones([10,10], dtype='bool'))\n",
    "\n",
    "# mask the pole hole\n",
    "bm_mask.get_latlon(srs_epsg=3031)\n",
    "bm_mask.z[bm_mask.latitude < -88]=0\n"
   ]
  },
  {
   "cell_type": "markdown",
   "id": "b2a70a18-2091-4582-9ba4-353ab9ce73be",
   "metadata": {},
   "source": [
    "# Setup the Thwaites masks:\n",
    "\n",
    "\n",
    "All times before 2022 need the /home/ben/GIS/THW/SAR_mask_or_for_Greene_to_2021.8.geojson mask burned to 1.\n",
    "\n",
    "Everything after 2021.5 needs /home/ben/GIS/THW/THW_remove_2021ish.geojson burned to 0.\n"
   ]
  },
  {
   "cell_type": "code",
   "execution_count": null,
   "id": "39cee0d4-3935-4cc9-b2dd-44c9473e5902",
   "metadata": {},
   "outputs": [],
   "source": [
    "thw_or_mask=bm_mask.copy()\n",
    "thw_or_mask.z=np.zeros_like(thw_or_mask.z, dtype=int)\n",
    "temp_gdf=gpd.read_file('SAR_mask_or_for_Greene_to_2021.8.geojson')\n",
    "thw_or_mask.rasterize_poly(temp_gdf.geometry[0], field='z', burn_value=1, raster_epsg=3031, poly_epsg=3031)\n",
    "thw_or_mask.z=thw_or_mask.z.astype(bool)\n",
    "\n",
    "thw_zero_mask=bm_mask.copy()\n",
    "thw_zero_mask.z=np.ones_like(thw_or_mask.z, dtype=int)\n",
    "temp_gdf=gpd.read_file('THW_remove_2021ish.geojson')\n",
    "for geom in temp_gdf.geometry:\n",
    "    thw_zero_mask.rasterize_poly(geom, field='z', burn_value=0, raster_epsg=3031, poly_epsg=3031)\n",
    "thw_zero_mask.z=thw_zero_mask.z.astype(bool)"
   ]
  },
  {
   "cell_type": "code",
   "execution_count": null,
   "id": "7381ff05-b8bc-4165-a2fb-0b5141398be2",
   "metadata": {},
   "outputs": [],
   "source": [
    "out_file='Greene_22_shelf_plus_10m_mask_2018_2023_240m.h5'\n",
    "\n",
    "fields=['x','y','year']\n",
    "\n",
    "\n",
    "if True:\n",
    "\n",
    "    #if not os.path.isfile(in_file):\n",
    "    #    ! pushd ../../..; git clone git@github.com:SmithB/ice-shelf-geometry.git\n",
    "\n",
    "    # get the dimension shapes:\n",
    "    D={'x':template.x,'y':template.y,'year':np.array(t_vals)}\n",
    "\n",
    "    if os.path.isfile(out_file):\n",
    "        os.remove(out_file)\n",
    "    with h5py.File(out_file,'w') as h5f_out:\n",
    "        h5f_out.create_dataset('z', [D['y'].size, D['x'].size, D['year'].size], \n",
    "                               chunks=(100, 100, 1), compression='gzip', dtype='i8', \\\n",
    "                              fillvalue=255)\n",
    "        h5f_out.create_dataset('x', data=template.x)\n",
    "        h5f_out.create_dataset('y', data=template.y)\n",
    "        h5f_out.create_dataset('t', data=t_vals)\n",
    "        for count, in_file in enumerate(files):\n",
    "            with h5py.File(in_file,'r') as h5f_in:\n",
    "                if 't' in h5f_in:\n",
    "                    t_temp = np.array(h5f_in['t'])\n",
    "                else:\n",
    "                    t_temp=np.array(h5f_in['year'])\n",
    "                for this_field in ['z','ice']:\n",
    "                    if this_field in h5f_in:\n",
    "                        break\n",
    "            _, in_bands, out_bands=np.intersect1d(t_temp, t_vals, return_indices=True)\n",
    "            for in_band, out_band, this_t in zip(in_bands, out_bands, t_temp):\n",
    "                if in_file[-2:]=='h5':\n",
    "                    in_mask=pc.grid.data().from_h5(in_file, bands=[in_band], field_mapping={'z':this_field})\n",
    "                else:\n",
    "                    in_mask=pc.grid.data().from_nc(in_file, bands=[in_band], field_mapping={'z':this_field}, timename='year')\n",
    "                in_mask.z[~np.isfinite(in_mask.z)]=0\n",
    "                in_mask.z[in_mask.z==255]=0\n",
    "                in_mask.z=np.squeeze(in_mask.z.astype(bool))\n",
    "                if this_t < 2023.0:\n",
    "                    in_mask.z[thw_or_mask.z==1] = 1\n",
    "                if this_t > 2021.5:\n",
    "                    in_mask.z[thw_zero_mask.z==0] = 0\n",
    "                print(f\"for time {this_t}, from {in_file}, writing input band {in_band} to output band {out_band}\")\n",
    "                h5f_out['z'][:,:,out_band] = (np.squeeze(in_mask.z==1) & bm_mask.z)\n"
   ]
  },
  {
   "cell_type": "code",
   "execution_count": null,
   "id": "8d5688f8-6d98-4ee8-b2d4-3596e5207d09",
   "metadata": {},
   "outputs": [],
   "source": [
    "with h5py.File('/Volumes/ice3/tyler/masks/antarctic_coastline/antarctic_icelines_2023_mask.h5','r') as h5f_in:\n",
    "    with h5py.File(out_file,'r+') as h5f_out:\n",
    "        try:\n",
    "            h5f_out.create_dataset('crs', data=0)\n",
    "        except:\n",
    "            pass\n",
    "        for name,val in h5f_in['crs'].attrs.items():\n",
    "            h5f_out['crs'].attrs[name]=val\n"
   ]
  },
  {
   "cell_type": "code",
   "execution_count": null,
   "id": "62c71646-e6d3-4f85-8abc-686c94e28aa5",
   "metadata": {},
   "outputs": [],
   "source": [
    "out_file='Greene_22_shelf_plus_10m_mask_2018_2023_240m.h5'\n",
    "\n",
    "XR=[-1600000, -1400000]\n",
    "YR=[-550000, -350000]\n",
    "\n",
    "XR, YR = [np.array(jj)+np.array([-1.e5, 1.e5]) for jj in [XR, YR]]\n",
    "temp=pc.grid.data().from_h5(out_file, bounds=[XR, YR])\n",
    "\n",
    "temp.assign(zsum=np.nansum(temp.z, axis=2))\n",
    "plt.figure()\n",
    "temp.show(field='zsum')\n",
    "#thw_zero_mask.cropped(XR, YR).show(cmap='gray', alpha=0.5)"
   ]
  },
  {
   "cell_type": "code",
   "execution_count": null,
   "id": "a03a8dc1-9830-4753-ace5-26185b6a1401",
   "metadata": {},
   "outputs": [],
   "source": [
    "floating=pc.grid.data().from_geotif('/home/ben/DEM_regions/SPK/masks/../../ASE/masks/THW_floating_updated.tif')\n"
   ]
  },
  {
   "cell_type": "code",
   "execution_count": null,
   "id": "e9aa32e0-e5a9-4a68-9109-380741471697",
   "metadata": {},
   "outputs": [],
   "source": [
    "floating.show(cmap='gray', alpha=0.5)"
   ]
  },
  {
   "cell_type": "markdown",
   "id": "76c1255f",
   "metadata": {},
   "source": [
    "## Make the 1-km mask used to generate the tile centers"
   ]
  },
  {
   "cell_type": "code",
   "execution_count": null,
   "id": "2d22ac93",
   "metadata": {},
   "outputs": [],
   "source": [
    "mask=pc.grid.data().from_h5(out_file, bands=[0])\n",
    "mask.z=mask.z.astype(bool)\n",
    "mask.to_geotif('Greene_22_shelf_plus_10m_mask_240m.tif', srs_epsg=3031)\n",
    "! rm Greene_22_shelf_plus_10m_mask_1km.tif\n",
    "! gdal_translate -tr 1000 1000 -r nearest -co COMPRESS=LZW -co TILED=YES -co PREDICTOR=1 Greene_22_shelf_plus_10m_mask_240m.tif Greene_22_shelf_plus_10m_mask_1km.tif\n"
   ]
  },
  {
   "cell_type": "code",
   "execution_count": null,
   "id": "f2eedd74-2235-4637-8bfd-00f6e7365ff2",
   "metadata": {},
   "outputs": [],
   "source": [
    "M_1km=pc.grid.data().from_geotif('Greene_22_shelf_plus_10m_mask_1km.tif')\n",
    "M_1km.show()"
   ]
  },
  {
   "cell_type": "code",
   "execution_count": null,
   "id": "50ad66da-4c28-4a4b-a6d6-082d226f3ab9",
   "metadata": {},
   "outputs": [],
   "source": [
    "#XR, YR=np.round(np.array([*map(np.array, [plt.gca().get_xlim(), plt.gca().get_ylim()])])/1.e4)*10000\n",
    "XR, YR =(np.array([-1660000., -1490000.]), np.array([-360000., -230000.]))\n"
   ]
  },
  {
   "cell_type": "code",
   "execution_count": null,
   "id": "79e91c2b-3129-4ce4-a305-55d9a32d9ebf",
   "metadata": {},
   "outputs": [],
   "source": [
    "D=pc.grid.data().from_h5('Greene_22_shelf_plus_10m_mask_full.h5', bounds=[XR, YR])"
   ]
  },
  {
   "cell_type": "code",
   "execution_count": null,
   "id": "dd390d81-4c8a-4e16-bb0a-bfe611a75ae2",
   "metadata": {},
   "outputs": [],
   "source": [
    "# Animate mask changes"
   ]
  },
  {
   "cell_type": "code",
   "execution_count": null,
   "id": "cfd3fae5-e7c4-4330-98b6-3dbb044a14f2",
   "metadata": {},
   "outputs": [],
   "source": [
    "import matplotlib.animation as animation\n",
    "import glob\n",
    "plt.rcParams['animation.ffmpeg_path'] ='/home/ben/mambaforge/envs/devel/bin/ffmpeg'\n",
    "%matplotlib widget"
   ]
  },
  {
   "cell_type": "code",
   "execution_count": null,
   "id": "cdda0c83-19ec-4f69-bd6c-a511f9bc635c",
   "metadata": {},
   "outputs": [],
   "source": [
    "\n",
    "def draw_mask(k0, D, hi, ha):\n",
    "    \n",
    "    k=np.minimum(D.t.size-1, np.maximum(0, k0-pause_frames))\n",
    "    hi.set_data((D.z[:,:,k]))\n",
    "    ht=ha.set_title(f'{D.t[k]:2.2f}')\n",
    "    return [hi, ht]\n",
    "\n",
    "\n",
    "hf, ha=plt.subplots(1,1)\n",
    "hi=D.show(band=0, ax=ha)\n",
    "ha.set_title(f'{D.t[0]:2.2f}')\n",
    "\n",
    "pause_frames=1\n",
    "anim = animation.FuncAnimation(hf, draw_mask, frames=D.z.shape[2]+2*pause_frames, interval=500, blit=True, fargs=[D, hi, ha])\n",
    "from matplotlib import rc\n",
    "\n",
    "# equivalent to rcParams['animation.html'] = 'html5'\n",
    "rc('animation', html='html5')\n",
    "anim\n"
   ]
  },
  {
   "cell_type": "code",
   "execution_count": null,
   "id": "1f20091a-aa96-40de-95db-5f429929392a",
   "metadata": {},
   "outputs": [],
   "source": [
    "50*3.6*0.6"
   ]
  },
  {
   "cell_type": "code",
   "execution_count": null,
   "id": "53d0b706-c3c1-44cc-b6a2-b94358e3e127",
   "metadata": {},
   "outputs": [],
   "source": []
  }
 ],
 "metadata": {
  "kernelspec": {
   "display_name": "devel",
   "language": "python",
   "name": "devel"
  },
  "language_info": {
   "codemirror_mode": {
    "name": "ipython",
    "version": 3
   },
   "file_extension": ".py",
   "mimetype": "text/x-python",
   "name": "python",
   "nbconvert_exporter": "python",
   "pygments_lexer": "ipython3",
   "version": "3.11.6"
  }
 },
 "nbformat": 4,
 "nbformat_minor": 5
}
